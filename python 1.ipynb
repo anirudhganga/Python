{
 "cells": [
  {
   "cell_type": "markdown",
   "id": "3b51d792",
   "metadata": {},
   "source": [
    "## Data Type"
   ]
  },
  {
   "cell_type": "code",
   "execution_count": 3,
   "id": "da9ae888",
   "metadata": {
    "scrolled": true
   },
   "outputs": [
    {
     "name": "stdout",
     "output_type": "stream",
     "text": [
      "<class 'str'>\n"
     ]
    }
   ],
   "source": [
    "a=\"Hello\"\n",
    "print(type(a))"
   ]
  },
  {
   "cell_type": "code",
   "execution_count": 4,
   "id": "359ad882",
   "metadata": {},
   "outputs": [
    {
     "data": {
      "text/plain": [
       "str"
      ]
     },
     "execution_count": 4,
     "metadata": {},
     "output_type": "execute_result"
    }
   ],
   "source": [
    "a=\"Hello\"\n",
    "type(a)"
   ]
  },
  {
   "cell_type": "code",
   "execution_count": 5,
   "id": "32bcba97",
   "metadata": {
    "scrolled": true
   },
   "outputs": [
    {
     "data": {
      "text/plain": [
       "bool"
      ]
     },
     "execution_count": 5,
     "metadata": {},
     "output_type": "execute_result"
    }
   ],
   "source": [
    "a=True\n",
    "type(a)"
   ]
  },
  {
   "cell_type": "code",
   "execution_count": 6,
   "id": "d7d5ec60",
   "metadata": {},
   "outputs": [
    {
     "data": {
      "text/plain": [
       "float"
      ]
     },
     "execution_count": 6,
     "metadata": {},
     "output_type": "execute_result"
    }
   ],
   "source": [
    "a=4.56\n",
    "type(a)"
   ]
  },
  {
   "cell_type": "code",
   "execution_count": 7,
   "id": "443f902b",
   "metadata": {},
   "outputs": [
    {
     "data": {
      "text/plain": [
       "complex"
      ]
     },
     "execution_count": 7,
     "metadata": {},
     "output_type": "execute_result"
    }
   ],
   "source": [
    "a=2+3j\n",
    "type(a)"
   ]
  },
  {
   "cell_type": "code",
   "execution_count": 8,
   "id": "fe836caa",
   "metadata": {},
   "outputs": [
    {
     "data": {
      "text/plain": [
       "str"
      ]
     },
     "execution_count": 8,
     "metadata": {},
     "output_type": "execute_result"
    }
   ],
   "source": [
    "a=\"48.9\"\n",
    "type(a)"
   ]
  },
  {
   "cell_type": "markdown",
   "id": "d4474754",
   "metadata": {},
   "source": [
    "### DATA STRUCTURES"
   ]
  },
  {
   "cell_type": "code",
   "execution_count": 16,
   "id": "637aa162",
   "metadata": {},
   "outputs": [
    {
     "name": "stdout",
     "output_type": "stream",
     "text": [
      "<class 'list'>\n"
     ]
    },
    {
     "data": {
      "text/plain": [
       "str"
      ]
     },
     "execution_count": 16,
     "metadata": {},
     "output_type": "execute_result"
    }
   ],
   "source": [
    "a=[\"APPLE\",\"MANGO\",\"BANANA\"]\n",
    "print(type(a))\n",
    "type(a[1])"
   ]
  },
  {
   "cell_type": "code",
   "execution_count": 20,
   "id": "5adda045",
   "metadata": {},
   "outputs": [
    {
     "name": "stdout",
     "output_type": "stream",
     "text": [
      "<class 'int'>\n"
     ]
    },
    {
     "data": {
      "text/plain": [
       "str"
      ]
     },
     "execution_count": 20,
     "metadata": {},
     "output_type": "execute_result"
    }
   ],
   "source": [
    "A=10\n",
    "M=15\n",
    "B=30\n",
    "a=[A,\"M\",B]\n",
    "print(type(a[2]))\n",
    "type(a[1])"
   ]
  },
  {
   "cell_type": "code",
   "execution_count": 22,
   "id": "afe4d996",
   "metadata": {},
   "outputs": [
    {
     "data": {
      "text/plain": [
       "tuple"
      ]
     },
     "execution_count": 22,
     "metadata": {},
     "output_type": "execute_result"
    }
   ],
   "source": [
    "x=\"apple\",\"banana\",\"mango\"\n",
    "type(x)"
   ]
  },
  {
   "cell_type": "code",
   "execution_count": 23,
   "id": "214cc841",
   "metadata": {},
   "outputs": [
    {
     "data": {
      "text/plain": [
       "set"
      ]
     },
     "execution_count": 23,
     "metadata": {},
     "output_type": "execute_result"
    }
   ],
   "source": [
    "x={\"apple\",\"banana\",\"mango\"}\n",
    "type(x)"
   ]
  },
  {
   "cell_type": "code",
   "execution_count": 24,
   "id": "1498f3e8",
   "metadata": {},
   "outputs": [
    {
     "data": {
      "text/plain": [
       "list"
      ]
     },
     "execution_count": 24,
     "metadata": {},
     "output_type": "execute_result"
    }
   ],
   "source": [
    "x=['hi',34,3+4j]\n",
    "type(x)"
   ]
  },
  {
   "cell_type": "code",
   "execution_count": 45,
   "id": "8d95ce6f",
   "metadata": {},
   "outputs": [
    {
     "data": {
      "text/plain": [
       "[(3+4j), 34, 'ghu', '9']"
      ]
     },
     "execution_count": 45,
     "metadata": {},
     "output_type": "execute_result"
    }
   ],
   "source": [
    "x.append(\"9\")\n",
    "x"
   ]
  },
  {
   "cell_type": "code",
   "execution_count": 46,
   "id": "485e56e7",
   "metadata": {},
   "outputs": [
    {
     "data": {
      "text/plain": [
       "[(3+4j), 34, '9']"
      ]
     },
     "execution_count": 46,
     "metadata": {},
     "output_type": "execute_result"
    }
   ],
   "source": [
    "x.remove(x[2])\n",
    "x"
   ]
  },
  {
   "cell_type": "code",
   "execution_count": 25,
   "id": "de41067f",
   "metadata": {},
   "outputs": [
    {
     "data": {
      "text/plain": [
       "int"
      ]
     },
     "execution_count": 25,
     "metadata": {},
     "output_type": "execute_result"
    }
   ],
   "source": [
    "type(x[1])"
   ]
  },
  {
   "cell_type": "code",
   "execution_count": 26,
   "id": "8a6407d7",
   "metadata": {},
   "outputs": [
    {
     "data": {
      "text/plain": [
       "complex"
      ]
     },
     "execution_count": 26,
     "metadata": {},
     "output_type": "execute_result"
    }
   ],
   "source": [
    "type(x[2])"
   ]
  },
  {
   "cell_type": "code",
   "execution_count": 27,
   "id": "aa459b3f",
   "metadata": {},
   "outputs": [
    {
     "data": {
      "text/plain": [
       "'hi'"
      ]
     },
     "execution_count": 27,
     "metadata": {},
     "output_type": "execute_result"
    }
   ],
   "source": [
    "x[0]"
   ]
  },
  {
   "cell_type": "code",
   "execution_count": 30,
   "id": "e70a0a72",
   "metadata": {},
   "outputs": [
    {
     "data": {
      "text/plain": [
       "[(3+4j), 34, 'hi']"
      ]
     },
     "execution_count": 30,
     "metadata": {},
     "output_type": "execute_result"
    }
   ],
   "source": [
    "x.reverse()\n",
    "x"
   ]
  },
  {
   "cell_type": "code",
   "execution_count": 32,
   "id": "ac28acf2",
   "metadata": {
    "scrolled": true
   },
   "outputs": [],
   "source": [
    "d=(\"hi\",63,3+4j)\n",
    "#No reverse attribute for tuple"
   ]
  },
  {
   "cell_type": "code",
   "execution_count": 33,
   "id": "eeed84e1",
   "metadata": {},
   "outputs": [
    {
     "data": {
      "text/plain": [
       "[(3+4j), 34, 'ghu']"
      ]
     },
     "execution_count": 33,
     "metadata": {},
     "output_type": "execute_result"
    }
   ],
   "source": [
    "x[2]=\"ghu\"\n",
    "x"
   ]
  },
  {
   "cell_type": "code",
   "execution_count": 37,
   "id": "d28fb63b",
   "metadata": {},
   "outputs": [],
   "source": [
    "#tuple is immutable\n",
    "#'tuple' object does not support item assignment\n"
   ]
  },
  {
   "cell_type": "code",
   "execution_count": 38,
   "id": "9fd328d2",
   "metadata": {},
   "outputs": [
    {
     "data": {
      "text/plain": [
       "('apple', 'banana', 'mango')"
      ]
     },
     "execution_count": 38,
     "metadata": {},
     "output_type": "execute_result"
    }
   ],
   "source": [
    "a=\"apple\",\"banana\",\"mango\"\n",
    "a"
   ]
  },
  {
   "cell_type": "code",
   "execution_count": 39,
   "id": "eace02ff",
   "metadata": {},
   "outputs": [
    {
     "data": {
      "text/plain": [
       "{(3+5j), 0, 1, 13.54, 2, 'hello', 'hi'}"
      ]
     },
     "execution_count": 39,
     "metadata": {},
     "output_type": "execute_result"
    }
   ],
   "source": [
    "set={1,1,1,2,3+5j,0,13.54,\"hi\",\"hello\",\"hi\"}\n",
    "set\n"
   ]
  },
  {
   "cell_type": "code",
   "execution_count": 40,
   "id": "3f2ab291",
   "metadata": {},
   "outputs": [
    {
     "data": {
      "text/plain": [
       "{(3+5j), 1, 13.54, 2, 'hello', 'hi'}"
      ]
     },
     "execution_count": 40,
     "metadata": {},
     "output_type": "execute_result"
    }
   ],
   "source": [
    "#set does not allow duplicates\n",
    "set.remove(0)\n",
    "set"
   ]
  },
  {
   "cell_type": "code",
   "execution_count": 42,
   "id": "b7816615",
   "metadata": {},
   "outputs": [
    {
     "data": {
      "text/plain": [
       "{(3+5j), 1, 13.54, 2, 54, 'hello', 'hi'}"
      ]
     },
     "execution_count": 42,
     "metadata": {},
     "output_type": "execute_result"
    }
   ],
   "source": [
    "set.add(54)\n",
    "set"
   ]
  },
  {
   "cell_type": "code",
   "execution_count": 48,
   "id": "ed423919",
   "metadata": {},
   "outputs": [
    {
     "data": {
      "text/plain": [
       "{'a': 'hi', 1: 'ddi', 2: 'ddi'}"
      ]
     },
     "execution_count": 48,
     "metadata": {},
     "output_type": "execute_result"
    }
   ],
   "source": [
    "dict={\"a\":\"hi\",1:\"ddi\",2:\"ddi\"}\n",
    "dict\n",
    "#values can be duplicated"
   ]
  },
  {
   "cell_type": "code",
   "execution_count": 49,
   "id": "eeceaf2a",
   "metadata": {},
   "outputs": [
    {
     "data": {
      "text/plain": [
       "{'a': 'hi', 1: 'ddi', 2: 'gi'}"
      ]
     },
     "execution_count": 49,
     "metadata": {},
     "output_type": "execute_result"
    }
   ],
   "source": [
    "dict={\"a\":\"hi\",1:\"ddi\",2:\"ddi\",2:\"gi\"}\n",
    "dict"
   ]
  },
  {
   "cell_type": "code",
   "execution_count": 54,
   "id": "7a910b21",
   "metadata": {},
   "outputs": [
    {
     "data": {
      "text/plain": [
       "{'a': 'hi', 1: 'ddi', 2: 'ddi'}"
      ]
     },
     "execution_count": 54,
     "metadata": {},
     "output_type": "execute_result"
    }
   ],
   "source": [
    "dict={\"a\":\"hi\",1:\"ddi\",2:\"gi\",2:\"ddi\"}\n",
    "dict\n",
    "#latest value to key will be considered"
   ]
  },
  {
   "cell_type": "code",
   "execution_count": 56,
   "id": "92f39887",
   "metadata": {},
   "outputs": [
    {
     "data": {
      "text/plain": [
       "'ddi'"
      ]
     },
     "execution_count": 56,
     "metadata": {},
     "output_type": "execute_result"
    }
   ],
   "source": [
    "dict[2]"
   ]
  },
  {
   "cell_type": "code",
   "execution_count": 55,
   "id": "b8c18cf4",
   "metadata": {},
   "outputs": [
    {
     "data": {
      "text/plain": [
       "'hi'"
      ]
     },
     "execution_count": 55,
     "metadata": {},
     "output_type": "execute_result"
    }
   ],
   "source": [
    "dict[\"a\"]"
   ]
  },
  {
   "cell_type": "code",
   "execution_count": 67,
   "id": "c48096d0",
   "metadata": {},
   "outputs": [
    {
     "data": {
      "text/plain": [
       "{('apple', 'banana', 'mango'): 'hi', 1: 'ddi', 2: 'ddi'}"
      ]
     },
     "execution_count": 67,
     "metadata": {},
     "output_type": "execute_result"
    }
   ],
   "source": [
    "dict={a:\"hi\",1:\"ddi\",2:\"gi\",2:\"ddi\"}\n",
    "dict\n"
   ]
  },
  {
   "cell_type": "code",
   "execution_count": 68,
   "id": "5f73da38",
   "metadata": {},
   "outputs": [
    {
     "data": {
      "text/plain": [
       "{('apple', 'banana', 'mango'): 'hi', 1: 'HI', 2: 'ddi'}"
      ]
     },
     "execution_count": 68,
     "metadata": {},
     "output_type": "execute_result"
    }
   ],
   "source": [
    "dict[1]=\"HI\"\n",
    "dict\n",
    "#mutable using key"
   ]
  },
  {
   "cell_type": "code",
   "execution_count": 69,
   "id": "cc838510",
   "metadata": {},
   "outputs": [
    {
     "data": {
      "text/plain": [
       "{('apple', 'banana', 'mango'): 'hi', 1: 'HI', 2: 'ddi', 4: 'bye'}"
      ]
     },
     "execution_count": 69,
     "metadata": {},
     "output_type": "execute_result"
    }
   ],
   "source": [
    "dict[4]=\"bye\"\n",
    "dict\n",
    "#adding key and value"
   ]
  },
  {
   "cell_type": "code",
   "execution_count": null,
   "id": "f916f59d",
   "metadata": {},
   "outputs": [],
   "source": []
  }
 ],
 "metadata": {
  "kernelspec": {
   "display_name": "Python 3 (ipykernel)",
   "language": "python",
   "name": "python3"
  },
  "language_info": {
   "codemirror_mode": {
    "name": "ipython",
    "version": 3
   },
   "file_extension": ".py",
   "mimetype": "text/x-python",
   "name": "python",
   "nbconvert_exporter": "python",
   "pygments_lexer": "ipython3",
   "version": "3.9.13"
  }
 },
 "nbformat": 4,
 "nbformat_minor": 5
}
